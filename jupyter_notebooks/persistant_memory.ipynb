{
 "cells": [
  {
   "cell_type": "markdown",
   "metadata": {},
   "source": [
    "### import statements"
   ]
  },
  {
   "cell_type": "code",
   "execution_count": 1,
   "metadata": {},
   "outputs": [],
   "source": [
    "from  pprint import pprint\n",
    "import pandas as pd\n",
    "from llama_cpp import Llama\n",
    "import numpy as np\n",
    "import re\n",
    "import faiss\n",
    "import heapq"
   ]
  },
  {
   "cell_type": "markdown",
   "metadata": {},
   "source": [
    "### defining some variables"
   ]
  },
  {
   "cell_type": "code",
   "execution_count": 2,
   "metadata": {},
   "outputs": [],
   "source": [
    "data_type = np.float16\n",
    "shortlisting_dim = 128\n",
    "reranking_dim = 512"
   ]
  },
  {
   "cell_type": "markdown",
   "metadata": {},
   "source": [
    "### dataset proocessing"
   ]
  },
  {
   "cell_type": "code",
   "execution_count": 3,
   "metadata": {},
   "outputs": [],
   "source": [
    "\n",
    "# Read the CSV file into a DataFrame\n",
    "df = pd.read_csv(\"D:\\\\Dataset\\\\movie_imdb_dataset\\\\action.csv\")\n",
    "\n",
    "# Extract the columns into separate lists\n",
    "movie_names = df['movie_name'].tolist()[:3000]\n",
    "genres = df['genre'].tolist()[:3000]\n",
    "descriptions = df['description'].tolist()[:3000]\n",
    "\n",
    "def structure_data(data_lst):\n",
    "    data_str = ''\n",
    "    for i in range(3):\n",
    "        if (i == 2):\n",
    "            data_str += data_lst[i].replace(\".\", \" \").strip()\n",
    "        else:\n",
    "\n",
    "            data_str += data_lst[i].replace(\".\", \" \").strip()+\" . \"\n",
    "    data_str = re.sub(r'\\s+', ' ', data_str).strip()\n",
    "    data_str = 'search_document: ' + data_str\n",
    "    return data_str\n",
    "\n",
    "dataset_arr = []\n",
    "for entity in zip(movie_names, genres, descriptions):\n",
    "    entity = list(entity)\n",
    "    # *** removing the data with no movie name ***\n",
    "    if (type(entity[0]) != str or len(entity[0]) == 0):\n",
    "        continue\n",
    "\n",
    "    # *** converting no description to empty string ***\n",
    "\n",
    "    if (entity[2] == \"Add a Plot\" or entity[2] == \"Not available at this time.\" or entity[2] == \"The plot is unknown at this time.\"or entity[2] == \"Plot kept under wraps.\"):\n",
    "        entity[2] = \"\"\n",
    "\n",
    "\n",
    "    dataset_arr.append(structure_data(entity))\n"
   ]
  },
  {
   "cell_type": "markdown",
   "metadata": {},
   "source": [
    "### model initalization"
   ]
  },
  {
   "cell_type": "code",
   "execution_count": 4,
   "metadata": {},
   "outputs": [],
   "source": [
    "model_q4_k_m = Llama(\"../models/nomic-embed-large-v1.5-Q4_K_M.gguf\",\n",
    "                     embedding=True, verbose=False,use_mmap=True,\n",
    "                     use_mlock=True)"
   ]
  },
  {
   "cell_type": "code",
   "execution_count": 5,
   "metadata": {},
   "outputs": [],
   "source": [
    "def get_embeddings(input):\n",
    "    return np.array(model_q4_k_m.embed(input), dtype=np.float16)\n",
    "\n",
    "\n",
    "def truncate_embeddings(emb, truncate_dim):\n",
    "    return emb[:, :truncate_dim]\n",
    "\n",
    "\n",
    "def cosine_similarity(x, y):\n",
    "    normalized_x = x/np.linalg.norm(x)\n",
    "    normalized_y = y/np.linalg.norm(y)\n",
    "    return np.dot(normalized_x, normalized_y)"
   ]
  },
  {
   "cell_type": "code",
   "execution_count": null,
   "metadata": {},
   "outputs": [],
   "source": [
    "dim_768_emb = get_embeddings(dataset_arr)"
   ]
  },
  {
   "cell_type": "code",
   "execution_count": null,
   "metadata": {},
   "outputs": [],
   "source": [
    "dim_768_emb.shape,dim_768_emb.dtype"
   ]
  },
  {
   "cell_type": "code",
   "execution_count": null,
   "metadata": {},
   "outputs": [],
   "source": [
    "np.save('./dim_768_emb_nomic.npy', dim_768_emb)"
   ]
  },
  {
   "cell_type": "code",
   "execution_count": 6,
   "metadata": {},
   "outputs": [
    {
     "data": {
      "text/plain": [
       "((3000, 768), dtype('float16'))"
      ]
     },
     "execution_count": 6,
     "metadata": {},
     "output_type": "execute_result"
    }
   ],
   "source": [
    "dim_768_emb = np.load('./dim_768_emb_nomic.npy')\n",
    "dim_768_emb.shape,dim_768_emb.dtype"
   ]
  },
  {
   "cell_type": "code",
   "execution_count": 7,
   "metadata": {},
   "outputs": [
    {
     "data": {
      "text/plain": [
       "(3000, 512)"
      ]
     },
     "execution_count": 7,
     "metadata": {},
     "output_type": "execute_result"
    }
   ],
   "source": [
    "dim_512_emb = truncate_embeddings(dim_768_emb,512)\n",
    "dim_512_emb.shape"
   ]
  },
  {
   "cell_type": "code",
   "execution_count": 8,
   "metadata": {},
   "outputs": [
    {
     "data": {
      "text/plain": [
       "(3000, 128)"
      ]
     },
     "execution_count": 8,
     "metadata": {},
     "output_type": "execute_result"
    }
   ],
   "source": [
    "dim_128_emb = truncate_embeddings(dim_768_emb,128)\n",
    "dim_128_emb.shape"
   ]
  },
  {
   "cell_type": "markdown",
   "metadata": {},
   "source": [
    "###  normalizing the vectors"
   ]
  },
  {
   "cell_type": "code",
   "execution_count": 9,
   "metadata": {},
   "outputs": [],
   "source": [
    "for i in range(len(dataset_arr)):\n",
    "    dim_768_emb[i, :] = dim_768_emb[i, :]/np.linalg.norm(dim_768_emb[i, :])\n",
    "    dim_512_emb[i, :] = dim_512_emb[i, :]/np.linalg.norm(dim_512_emb[i, :])\n",
    "    dim_128_emb[i, :] = dim_128_emb[i, :]/np.linalg.norm(dim_128_emb[i, :])"
   ]
  },
  {
   "cell_type": "markdown",
   "metadata": {},
   "source": [
    "### converting float => binary "
   ]
  },
  {
   "cell_type": "code",
   "execution_count": 10,
   "metadata": {},
   "outputs": [],
   "source": [
    "def modified_signum(x):\n",
    "    output = np.zeros_like(x)\n",
    "    output[x <= 0] = 0\n",
    "    output[x > 0] = 1\n",
    "    return output.astype(np.uint8)"
   ]
  },
  {
   "cell_type": "code",
   "execution_count": 11,
   "metadata": {},
   "outputs": [
    {
     "data": {
      "text/plain": [
       "((3000, 16),\n",
       " array([221,  94,  50, 182, 174, 232,  11, 205, 146, 241, 173, 125,  74,\n",
       "        217, 107, 189], dtype=uint8))"
      ]
     },
     "execution_count": 11,
     "metadata": {},
     "output_type": "execute_result"
    }
   ],
   "source": [
    "pack_bin_dim_128_emb = np.packbits(\n",
    "    modified_signum(\n",
    "        dim_128_emb)).reshape(dim_128_emb.shape[0], -1)\n",
    "pack_bin_dim_128_emb.shape,pack_bin_dim_128_emb[0][:20]"
   ]
  },
  {
   "cell_type": "markdown",
   "metadata": {},
   "source": [
    "### pesistant storing of binary vector to faiss(these binary vectors are used for shortlisting purpose)"
   ]
  },
  {
   "cell_type": "code",
   "execution_count": 12,
   "metadata": {},
   "outputs": [
    {
     "name": "stdout",
     "output_type": "stream",
     "text": [
      "True\n",
      "3000\n"
     ]
    }
   ],
   "source": [
    "binary_index = faiss.IndexBinaryFlat(128)\n",
    "print(binary_index.is_trained)\n",
    "binary_index.add(pack_bin_dim_128_emb)\n",
    "print(binary_index.ntotal)\n",
    "faiss.write_index_binary(binary_index,\"pack_bin_dim_128_emb.faiss\")"
   ]
  },
  {
   "cell_type": "code",
   "execution_count": 16,
   "metadata": {},
   "outputs": [],
   "source": [
    "binary_index = faiss.read_index_binary('pack_bin_dim_128_emb.faiss')"
   ]
  },
  {
   "cell_type": "markdown",
   "metadata": {},
   "source": [
    "### testing out binary vectors"
   ]
  },
  {
   "cell_type": "code",
   "execution_count": 17,
   "metadata": {},
   "outputs": [
    {
     "name": "stdout",
     "output_type": "stream",
     "text": [
      "(1, 16)\n",
      "query: search_query: Avatar\n",
      "result: search_document: Avatar 5 . Action, Adventure, Drama . Sequel of Avatar 4 (2026) and last movie of the \"Avatar\" saga The plot is unknown\n",
      "distance: 23\n",
      "\n",
      "result: search_document: Sword Art Online: Progressive - Aria of a Starless Night . Animation, Action, Adventure . High school student Asuna struggles to survive with a young swordsman after its revealed that she is trapped inside the game of Sword Art Online, where if your HP drops to zero, your brain will be destroyed in real life\n",
      "distance: 23\n",
      "\n",
      "result: search_document: Batman: Gotham by Gaslight . Animation, Action, Adventure . In an alternative Victorian Age Gotham City, Batman begins his war on crime while he investigates a new series of murders by Jack the Ripper\n",
      "distance: 24\n",
      "\n",
      "result: search_document: Samaritan . Action, Drama, Fantasy . A young boy learns that a superhero who was thought to have died after an epic battle twenty-five years ago may in fact still be alive\n",
      "distance: 25\n",
      "\n",
      "result: search_document: Avatar 3 . Action, Adventure, Fantasy . Sequel of Avatar: The Way of Water (2022) The plot is unknown\n",
      "distance: 25\n",
      "\n",
      "result: search_document: The Guardian . Action, Adventure, Drama . A high school swim champion with a troubled past enrolls in the U S Coast Guard's \"A\" School, where legendary rescue swimmer Ben Randall teaches him some hard lessons about loss, love, and self-sacrifice\n",
      "distance: 25\n",
      "\n",
      "result: search_document: Avatar 4 . Action, Adventure, Fantasy . Sequel of Avatar 3 (2024) The plot is unknown\n",
      "distance: 25\n",
      "\n",
      "result: search_document: 2012 . Action, Adventure, Sci-Fi . A frustrated writer struggles to keep his family alive when a series of global catastrophes threatens to annihilate mankind\n",
      "distance: 26\n",
      "\n",
      "result: search_document: The Lego Movie . Animation, Action, Adventure . An ordinary LEGO construction worker, thought to be the prophesied as \"special\", is recruited to join a quest to stop an evil tyrant from gluing the LEGO universe into eternal stasis\n",
      "distance: 26\n",
      "\n",
      "result: search_document: Spy Kids 4: All the Time in the World . Action, Adventure, Comedy . A retired spy is called back into action, and to bond with her new step-children, she invites them along for the adventure to stop the evil Timekeeper from taking over the world\n",
      "distance: 26\n",
      "\n",
      "------ ------\n"
     ]
    }
   ],
   "source": [
    "test_query = [\n",
    "    \"search_query: Avatar\"\n",
    "\n",
    "]\n",
    "\n",
    "\n",
    "test_dim_128_query = truncate_embeddings(get_embeddings(test_query), shortlisting_dim)\n",
    "\n",
    "for i in range(len(test_query)):\n",
    "    test_dim_128_query[i] = test_dim_128_query[i]/np.linalg.norm(test_dim_128_query[i])\n",
    "test_pack_bin_dim_128_query = np.packbits(\n",
    "    modified_signum(test_dim_128_query) > 0\n",
    ").reshape(len(test_query), -1)\n",
    "print(test_pack_bin_dim_128_query.shape)\n",
    "test_k = 10\n",
    "test_D, test_I = binary_index.search(test_pack_bin_dim_128_query, test_k)\n",
    "\n",
    "for i, entities in enumerate(zip(test_I, test_D)):\n",
    "    print(f'query: {test_query[i]}')\n",
    "    for i in range(test_k):\n",
    "        print(\n",
    "            f'result: {dataset_arr[int(entities[0][i])]}\\ndistance: {int(entities[1][i])}')\n",
    "        print()\n",
    "    print(\"------ ------\")"
   ]
  },
  {
   "cell_type": "markdown",
   "metadata": {},
   "source": [
    "### pesistant storing of binary vector using numpy built-in methods(these binary vectors are used for reranking purpose)"
   ]
  },
  {
   "cell_type": "code",
   "execution_count": 19,
   "metadata": {},
   "outputs": [
    {
     "data": {
      "text/plain": [
       "((3000, 64),\n",
       " array([221,  94,  50, 182, 174, 232,  11, 205, 146, 241, 173, 125,  74,\n",
       "        217, 107, 189, 181,  24,  39, 231], dtype=uint8))"
      ]
     },
     "execution_count": 19,
     "metadata": {},
     "output_type": "execute_result"
    }
   ],
   "source": [
    "bin_dim_512_emb = modified_signum(dim_512_emb)\n",
    "pack_bin_dim_512_emb = np.packbits(\n",
    "    bin_dim_512_emb\n",
    ").reshape(dim_512_emb.shape[0], -1)\n",
    "pack_bin_dim_512_emb.shape, pack_bin_dim_512_emb[0][:20]"
   ]
  },
  {
   "cell_type": "code",
   "execution_count": 20,
   "metadata": {},
   "outputs": [],
   "source": [
    "np.save('pack_bin_dim_512_emb.npy',pack_bin_dim_512_emb)\n"
   ]
  },
  {
   "cell_type": "code",
   "execution_count": 21,
   "metadata": {},
   "outputs": [],
   "source": [
    "pack_bin_dim_512_emb = np.load('pack_bin_dim_512_emb.npy')"
   ]
  },
  {
   "cell_type": "code",
   "execution_count": 22,
   "metadata": {},
   "outputs": [],
   "source": [
    "def convert_query_to_float(query, dim=reranking_dim):\n",
    "    \"\"\"\n",
    "    float embeddings \n",
    "    \"\"\"\n",
    "    query = [query]\n",
    "    float_emb = truncate_embeddings(\n",
    "        get_embeddings(query), dim)  # (1,reranking_dim)\n",
    "    norm_float_emb = float_emb / \\\n",
    "        np.linalg.norm(float_emb)  # (1,reranking_dim)\n",
    "    return float_emb, norm_float_emb\n",
    "\n",
    "\n",
    "def convert_float_to_binary(float_emb, dim=shortlisting_dim):\n",
    "    \"\"\"\n",
    "    packed binary embeddings\n",
    "    \"\"\"\n",
    "    if (float_emb.ndim == 1):\n",
    "        s = float_emb[:dim]\n",
    "        s = s.reshape(1,-1)\n",
    "    else:\n",
    "        s = truncate_embeddings(\n",
    "            float_emb, dim)  # (1,shortlisting_dim)\n",
    " \n",
    "    s = s/np.linalg.norm(s)  # (1,shortlisting_dim)\n",
    "    bin_emb = modified_signum(s)  # (1,shortlisting_dim)\n",
    "    pack_bin_emb = np.packbits(bin_emb).reshape(\n",
    "        1, -1)  # (1,shortlisting_dim/8)\n",
    "    return bin_emb, pack_bin_emb\n",
    "\n",
    "\n"
   ]
  },
  {
   "cell_type": "code",
   "execution_count": 23,
   "metadata": {},
   "outputs": [],
   "source": [
    "def simplify_distance_and_index(distance, index):\n",
    "    distance, index = distance.squeeze(), index.squeeze()\n",
    "    return [(dataset_arr[i[1]], i[0],i[1])for i in zip(distance, index)]\n"
   ]
  },
  {
   "cell_type": "code",
   "execution_count": 30,
   "metadata": {},
   "outputs": [],
   "source": [
    "def shortlisting(pack_bin_emb, top_s):\n",
    "    distance, index = binary_index.search(pack_bin_emb, top_s)\n",
    "    shortlisting_result = simplify_distance_and_index(distance, index)\n",
    "    return shortlisting_result\n",
    "\n",
    "\n",
    "def reranking(shortlisting_result, norm_float_emb, top_r):\n",
    "    indexed_score = []\n",
    "    indexed_text = []\n",
    "    for i, (text, distance, index) in enumerate(shortlisting_result):\n",
    "        bin_emb= np.unpackbits(\n",
    "            pack_bin_dim_512_emb[index]\n",
    "        ).reshape(1, -1)  # (1,reranking_dim)\n",
    "        score = round(float(\n",
    "            np.matmul(norm_float_emb_query, bin_emb.T).squeeze()\n",
    "        ), 3)\n",
    "        indexed_score.append((score, i))\n",
    "        indexed_text.append((text, i))\n",
    "    top_r_result = heapq.nlargest(top_r, indexed_score, key=lambda x: x[0])\n",
    "    reranking_result = [(score, indexed_text[index][0])\n",
    "                        for (score, index) in top_r_result]\n",
    "    return reranking_result"
   ]
  },
  {
   "cell_type": "code",
   "execution_count": 31,
   "metadata": {},
   "outputs": [],
   "source": [
    "\n",
    "float_emb_query, norm_float_emb_query = convert_query_to_float(\n",
    "    \"search_query: avatar\")\n",
    "_,pack_bin_emb_query = convert_float_to_binary(float_emb_query)\n",
    "shortlisting_result = shortlisting(\n",
    "    pack_bin_emb_query, 50\n",
    ")\n",
    "reranking_result = reranking(shortlisting_result, norm_float_emb_query, 10)"
   ]
  },
  {
   "cell_type": "code",
   "execution_count": 32,
   "metadata": {},
   "outputs": [
    {
     "data": {
      "text/plain": [
       "[(7.41,\n",
       "  'search_document: Avatar 5 . Action, Adventure, Drama . Sequel of Avatar 4 (2026) and last movie of the \"Avatar\" saga The plot is unknown'),\n",
       " (7.41,\n",
       "  'search_document: Avatar . Action, Adventure, Fantasy . A paraplegic Marine dispatched to the moon Pandora on a unique mission becomes torn between following his orders and protecting the world he feels is his home'),\n",
       " (7.137,\n",
       "  'search_document: Avatar 4 . Action, Adventure, Fantasy . Sequel of Avatar 3 (2024) The plot is unknown'),\n",
       " (7.027,\n",
       "  'search_document: The Last Airbender . Action, Adventure, Family . Follows the adventures of Aang, a young successor to a long line of Avatars, who must master all four elements and stop the Fire Nation from enslaving the Water Tribes and the Earth Kingdom'),\n",
       " (6.996,\n",
       "  'search_document: Avatar 3 . Action, Adventure, Fantasy . Sequel of Avatar: The Way of Water (2022) The plot is unknown'),\n",
       " (6.625,\n",
       "  'search_document: Sword Art Online: Progressive - Aria of a Starless Night . Animation, Action, Adventure . High school student Asuna struggles to survive with a young swordsman after its revealed that she is trapped inside the game of Sword Art Online, where if your HP drops to zero, your brain will be destroyed in real life'),\n",
       " (6.457,\n",
       "  'search_document: Thor: Ragnarok . Action, Adventure, Comedy . Imprisoned on the planet Sakaar, Thor must race against time to return to Asgard and stop Ragnarök, the destruction of his world, at the hands of the powerful and ruthless villain Hela'),\n",
       " (6.332,\n",
       "  'search_document: Spy Kids 4: All the Time in the World . Action, Adventure, Comedy . A retired spy is called back into action, and to bond with her new step-children, she invites them along for the adventure to stop the evil Timekeeper from taking over the world'),\n",
       " (6.281,\n",
       "  'search_document: Aquaman . Action, Adventure, Fantasy . Arthur Curry, the human-born heir to the underwater kingdom of Atlantis, goes on a quest to prevent a war between the worlds of ocean and land'),\n",
       " (6.254,\n",
       "  'search_document: The Hunger Games: The Ballad of Songbirds and Snakes . Action, Adventure, Drama . Coriolanus Snow mentors and develops feelings for the female District 12 tribute during the 10th Hunger Games')]"
      ]
     },
     "execution_count": 32,
     "metadata": {},
     "output_type": "execute_result"
    }
   ],
   "source": [
    "reranking_result"
   ]
  },
  {
   "cell_type": "code",
   "execution_count": 33,
   "metadata": {},
   "outputs": [
    {
     "data": {
      "text/plain": [
       "[('search_document: Avatar 5 . Action, Adventure, Drama . Sequel of Avatar 4 (2026) and last movie of the \"Avatar\" saga The plot is unknown',\n",
       "  23,\n",
       "  2021),\n",
       " ('search_document: Sword Art Online: Progressive - Aria of a Starless Night . Animation, Action, Adventure . High school student Asuna struggles to survive with a young swordsman after its revealed that she is trapped inside the game of Sword Art Online, where if your HP drops to zero, your brain will be destroyed in real life',\n",
       "  23,\n",
       "  2049),\n",
       " ('search_document: Batman: Gotham by Gaslight . Animation, Action, Adventure . In an alternative Victorian Age Gotham City, Batman begins his war on crime while he investigates a new series of murders by Jack the Ripper',\n",
       "  24,\n",
       "  2444),\n",
       " ('search_document: Samaritan . Action, Drama, Fantasy . A young boy learns that a superhero who was thought to have died after an epic battle twenty-five years ago may in fact still be alive',\n",
       "  25,\n",
       "  334),\n",
       " ('search_document: Avatar 3 . Action, Adventure, Fantasy . Sequel of Avatar: The Way of Water (2022) The plot is unknown',\n",
       "  25,\n",
       "  447),\n",
       " ('search_document: The Guardian . Action, Adventure, Drama . A high school swim champion with a troubled past enrolls in the U S Coast Guard\\'s \"A\" School, where legendary rescue swimmer Ben Randall teaches him some hard lessons about loss, love, and self-sacrifice',\n",
       "  25,\n",
       "  1018),\n",
       " ('search_document: Avatar 4 . Action, Adventure, Fantasy . Sequel of Avatar 3 (2024) The plot is unknown',\n",
       "  25,\n",
       "  2163),\n",
       " ('search_document: 2012 . Action, Adventure, Sci-Fi . A frustrated writer struggles to keep his family alive when a series of global catastrophes threatens to annihilate mankind',\n",
       "  26,\n",
       "  200),\n",
       " ('search_document: The Lego Movie . Animation, Action, Adventure . An ordinary LEGO construction worker, thought to be the prophesied as \"special\", is recruited to join a quest to stop an evil tyrant from gluing the LEGO universe into eternal stasis',\n",
       "  26,\n",
       "  455),\n",
       " ('search_document: Spy Kids 4: All the Time in the World . Action, Adventure, Comedy . A retired spy is called back into action, and to bond with her new step-children, she invites them along for the adventure to stop the evil Timekeeper from taking over the world',\n",
       "  26,\n",
       "  1108),\n",
       " ('search_document: All Is Lost . Action, Adventure, Drama . After a collision with a shipping container at sea, a resourceful sailor finds himself, despite all efforts to the contrary, staring his mortality in the face',\n",
       "  26,\n",
       "  1588),\n",
       " ('search_document: Allan Quatermain and the Lost City of Gold . Action, Adventure, Comedy . Allan Quatermain once again teams up with Jesse Huston where the discovery of a mysterious old gold piece sends Quatermain looking for his long-lost brother, missing in the wilds of Africa after seeking a lost white race',\n",
       "  26,\n",
       "  2590),\n",
       " ('search_document: Vendetta . Action, Thriller . Special ops interrogation officer Jimmy Vickers tracks down a gang who slaughtered his parents With police closing in & his old unit on his trail, he has to to evade capture long enough to complete his gruesome crusade',\n",
       "  26,\n",
       "  2696),\n",
       " ('search_document: Avatar . Action, Adventure, Fantasy . A paraplegic Marine dispatched to the moon Pandora on a unique mission becomes torn between following his orders and protecting the world he feels is his home',\n",
       "  27,\n",
       "  15),\n",
       " ('search_document: The Day After Tomorrow . Action, Adventure, Sci-Fi . Jack Hall, paleoclimatologist, must make a daring trek from Washington, D C to New York City to reach his son, trapped in the cross-hairs of a sudden international storm which plunges the planet into a new Ice Age',\n",
       "  27,\n",
       "  143),\n",
       " ('search_document: Thor: Ragnarok . Action, Adventure, Comedy . Imprisoned on the planet Sakaar, Thor must race against time to return to Asgard and stop Ragnarök, the destruction of his world, at the hands of the powerful and ruthless villain Hela',\n",
       "  27,\n",
       "  222),\n",
       " ('search_document: District 9 . Action, Sci-Fi, Thriller . Violence ensues after an extraterrestrial race forced to live in slum-like conditions on Earth finds a kindred spirit in a government agent exposed to their biotechnology',\n",
       "  27,\n",
       "  416),\n",
       " ('search_document: Conan the Barbarian . Action, Adventure, Fantasy . A young boy, Conan, becomes a slave after his parents are killed and tribe destroyed by a savage warlord and sorcerer, Thulsa Doom When he grows up he becomes a fearless, invincible fighter Set free, he plots revenge against Thulsa Doom',\n",
       "  27,\n",
       "  517),\n",
       " ('search_document: Angels & Demons . Action, Mystery, Thriller . Harvard symbologist Robert Langdon works with a nuclear physicist to solve a murder and prevent a terrorist act against the Vatican during one of the significant events within the church',\n",
       "  27,\n",
       "  736),\n",
       " ('search_document: RED 2 . Action, Comedy, Crime . Retired CIA agent Frank Moses reunites his unlikely team of elite operatives for a global quest to track down a missing portable nuclear device',\n",
       "  27,\n",
       "  1033),\n",
       " ('search_document: Crawl . Action, Adventure, Horror . A young woman, while attempting to save her father during a category 5 hurricane, finds herself trapped in a flooding house and must fight for her life against alligators',\n",
       "  27,\n",
       "  1045),\n",
       " (\"search_document: Colombiana . Action, Drama, Thriller . A young girl in Bogotá witnesses her parents' murder and grows up to be a stone-cold assassin\",\n",
       "  27,\n",
       "  1267),\n",
       " ('search_document: The One . Action, Sci-Fi, Thriller . A rogue Multiverse agent goes on a manhunt for alternate versions of himself, getting stronger with each kill Only the last version of himself, an LASD cop, can stop his crusade before he becomes \"The One\"',\n",
       "  27,\n",
       "  1627),\n",
       " ('search_document: Beyond the Poseidon Adventure . Action, Adventure . An extension of the previous film, wherein a cache of adventurers return to the overturned ship to seek several fortunes',\n",
       "  27,\n",
       "  2014),\n",
       " ('search_document: The Unthinkable . Action, Romance, Sci-Fi . Sweden faces a mysterious attack while Alex tries to reunite with his youth love, Anna',\n",
       "  27,\n",
       "  2683),\n",
       " ('search_document: Untitled I Am Legend Sequel . Action, Horror, Sci-Fi . The plot is under wraps',\n",
       "  27,\n",
       "  2862),\n",
       " ('search_document: The Hunger Games: The Ballad of Songbirds and Snakes . Action, Adventure, Drama . Coriolanus Snow mentors and develops feelings for the female District 12 tribute during the 10th Hunger Games',\n",
       "  28,\n",
       "  109),\n",
       " (\"search_document: The Lord of the Rings: The Two Towers . Action, Adventure, Drama . While Frodo and Sam edge closer to Mordor with the help of the shifty Gollum, the divided fellowship makes a stand against Sauron's new ally, Saruman, and his hordes of Isengard\",\n",
       "  28,\n",
       "  111),\n",
       " ('search_document: Ready Player One . Action, Adventure, Sci-Fi . When the creator of a virtual reality called the OASIS dies, he makes a posthumous challenge to all OASIS users to find his Easter Egg, which will give the finder his fortune and control of his world',\n",
       "  28,\n",
       "  127),\n",
       " ('search_document: Mission: Impossible - Dead Reckoning - Part One . Action, Adventure, Thriller . Seventh entry in the long-running Mission: Impossible series',\n",
       "  28,\n",
       "  136),\n",
       " ('search_document: Aquaman . Action, Adventure, Fantasy . Arthur Curry, the human-born heir to the underwater kingdom of Atlantis, goes on a quest to prevent a war between the worlds of ocean and land',\n",
       "  28,\n",
       "  230),\n",
       " ('search_document: The Last Airbender . Action, Adventure, Family . Follows the adventures of Aang, a young successor to a long line of Avatars, who must master all four elements and stop the Fire Nation from enslaving the Water Tribes and the Earth Kingdom',\n",
       "  28,\n",
       "  337),\n",
       " ('search_document: San Andreas . Action, Adventure, Thriller . In the aftermath of a massive earthquake in California, a rescue-chopper pilot makes a dangerous journey with his ex-wife across the state in order to rescue his daughter',\n",
       "  28,\n",
       "  396),\n",
       " ('search_document: The Matrix Reloaded . Action, Sci-Fi . Freedom fighters Neo, Trinity and Morpheus continue to lead the revolt against the Machine Army, unleashing their arsenal of extraordinary skills and weaponry against the systematic forces of repression and exploitation',\n",
       "  28,\n",
       "  671),\n",
       " ('search_document: Air Force One . Action, Drama, Thriller . Communist radicals hijack Air Force One with the U S President and his family on board The Vice President negotiates from Washington D C , while the President, a veteran, fights to rescue the hostages on board',\n",
       "  28,\n",
       "  677),\n",
       " (\"search_document: Ghost in the Shell . Action, Crime, Drama . In the near future, Major Mira Killian is the first of her kind: A human saved from a terrible crash, who is cyber-enhanced to be a perfect soldier devoted to stopping the world's most dangerous criminals\",\n",
       "  28,\n",
       "  693),\n",
       " ('search_document: Sherlock Holmes 3 . Action, Adventure, Mystery .',\n",
       "  28,\n",
       "  859),\n",
       " ('search_document: Jupiter Ascending . Action, Adventure, Sci-Fi . A young woman discovers her destiny as an heiress of intergalactic nobility and must fight to protect the inhabitants of Earth from an ancient and destructive industry',\n",
       "  28,\n",
       "  971),\n",
       " ('search_document: Timeline . Action, Adventure, Sci-Fi . A group of archaeologists become trapped in the past when they go there to retrieve a friend The group must survive in 14th-century France before they can escape back to the twenty-first century',\n",
       "  28,\n",
       "  1129),\n",
       " (\"search_document: Only God Forgives . Action, Crime, Drama . Julian, a drug-smuggler thriving in Bangkok's criminal underworld, sees his life get even more complicated when his mother compels him to find and kill whoever is responsible for his brother's recent death\",\n",
       "  28,\n",
       "  1160),\n",
       " (\"search_document: Invasion . Action, Sci-Fi . With the fall of the alien ship Julia's life changed, now three years later mankind is about to experience new encounter\",\n",
       "  28,\n",
       "  1830),\n",
       " ('search_document: Proof of Life . Action, Drama, Thriller . Alice hires a professional negotiator to obtain the release of her engineer husband, who has been kidnapped by anti-government guerrillas in South America',\n",
       "  28,\n",
       "  2209),\n",
       " ('search_document: Who Am I? . Action, Adventure, Comedy . A Secret Agent loses his memory after falling from a crashing helicopter He is then chased by several other agency operatives, but he has no idea why',\n",
       "  28,\n",
       "  2291),\n",
       " (\"search_document: True Memoirs of an International Assassin . Action, Comedy, Crime . After a publisher changes a writer's debut novel about a deadly assassin from fiction to non-fiction, the author finds himself thrust into the world of his lead character, and must take on the role of his character for his own survival\",\n",
       "  28,\n",
       "  2343),\n",
       " ('search_document: New York Ninja . Action, Crime, Thriller . Originally shot in 1984 and not finished until 2021, New York Ninja is about a sound technician for a news station (John Liu) who becomes a vigilante ninja in New York City after his pregnant wife is murdered',\n",
       "  28,\n",
       "  2458),\n",
       " ('search_document: The Crowded Sky . Action, Adventure, Drama . Disaster movie about a Navy jet and a commercial airliner heading for a mid air collision',\n",
       "  28,\n",
       "  2602),\n",
       " ('search_document: Ant-Man and the Wasp: Quantumania . Action, Adventure, Comedy . Scott Lang and Hope Van Dyne, along with Hank Pym and Janet Van Dyne, explore the Quantum Realm, where they interact with strange creatures and embark on an adventure that goes beyond the limits of what they thought was possible',\n",
       "  29,\n",
       "  5),\n",
       " ('search_document: Guardians of the Galaxy Vol 3 . Action, Adventure, Comedy . Still reeling from the loss of Gamora, Peter Quill rallies his team to defend the universe and one of their own - a mission that could mean the end of the Guardians if not successful',\n",
       "  29,\n",
       "  54),\n",
       " ('search_document: Ant-Man and the Wasp . Action, Adventure, Comedy . As Scott Lang balances being both a superhero and a father, Hope van Dyne and Dr Hank Pym present an urgent new mission that finds the Ant-Man fighting alongside The Wasp to uncover secrets from their past',\n",
       "  29,\n",
       "  108),\n",
       " (\"search_document: Tron: Legacy . Action, Adventure, Sci-Fi . The son of a virtual world designer goes looking for his father and ends up inside the digital world that his father designed He meets his father's corrupted creation and a unique ally who was born inside the digital world\",\n",
       "  29,\n",
       "  216)]"
      ]
     },
     "execution_count": 33,
     "metadata": {},
     "output_type": "execute_result"
    }
   ],
   "source": [
    "shortlisting_result"
   ]
  }
 ],
 "metadata": {
  "kernelspec": {
   "display_name": "venv",
   "language": "python",
   "name": "python3"
  },
  "language_info": {
   "codemirror_mode": {
    "name": "ipython",
    "version": 3
   },
   "file_extension": ".py",
   "mimetype": "text/x-python",
   "name": "python",
   "nbconvert_exporter": "python",
   "pygments_lexer": "ipython3",
   "version": "3.10.8"
  }
 },
 "nbformat": 4,
 "nbformat_minor": 2
}

{
 "cells": [
  {
   "cell_type": "markdown",
   "metadata": {},
   "source": [
    "### import statements"
   ]
  },
  {
   "cell_type": "code",
   "execution_count": 2,
   "metadata": {},
   "outputs": [],
   "source": [
    "from  pprint import pprint\n",
    "import pandas as pd\n",
    "from llama_cpp import Llama\n",
    "import numpy as np\n",
    "import re\n",
    "import heapq"
   ]
  },
  {
   "cell_type": "markdown",
   "metadata": {},
   "source": [
    "### defining some variables"
   ]
  },
  {
   "cell_type": "code",
   "execution_count": 3,
   "metadata": {},
   "outputs": [],
   "source": [
    "data_type = np.float16\n",
    "shortlisting_dim = 128\n",
    "reranking_dim = 512"
   ]
  },
  {
   "cell_type": "markdown",
   "metadata": {},
   "source": [
    "### dataset proocessing"
   ]
  },
  {
   "cell_type": "code",
   "execution_count": 4,
   "metadata": {},
   "outputs": [],
   "source": [
    "\n",
    "# Read the CSV file into a DataFrame\n",
    "df = pd.read_csv(\"D:\\\\Dataset\\\\movie_imdb_dataset\\\\action.csv\")\n",
    "\n",
    "# Extract the columns into separate lists\n",
    "movie_names = df['movie_name'].tolist()[:3000]\n",
    "genres = df['genre'].tolist()[:3000]\n",
    "descriptions = df['description'].tolist()[:3000]\n",
    "\n",
    "def structure_data(data_lst):\n",
    "    data_str = ''\n",
    " \n",
    "    for i in range(3):\n",
    "        if (i == 2):\n",
    "            data_str += data_lst[i].replace(\".\", \" \").strip()\n",
    "        else:\n",
    "\n",
    "            data_str += data_lst[i].replace(\".\", \" \").strip()+\" . \"\n",
    "    data_str = re.sub(r'\\s+', ' ', data_str).strip()\n",
    "    data_str = 'search_document: ' + data_str\n",
    "    return data_str\n",
    "\n",
    "dataset_arr = []\n",
    "for entity in zip(movie_names, genres, descriptions):\n",
    "    entity = list(entity)\n",
    "    # *** removing the data with no movie name ***\n",
    "    if (type(entity[0]) != str or len(entity[0]) == 0):\n",
    "        continue\n",
    "\n",
    "    # *** converting no description to empty string ***\n",
    "\n",
    "    if (entity[2] == \"Add a Plot\" or entity[2] == \"Not available at this time.\" or entity[2] == \"The plot is unknown at this time.\"or entity[2] == \"Plot kept under wraps.\"):\n",
    "        entity[2] = \"\"\n",
    "\n",
    "\n",
    "    dataset_arr.append(structure_data(entity))\n"
   ]
  },
  {
   "cell_type": "markdown",
   "metadata": {},
   "source": [
    "### model initalization"
   ]
  },
  {
   "cell_type": "code",
   "execution_count": 5,
   "metadata": {},
   "outputs": [],
   "source": [
    "model_q4_k_m = Llama(\"../models/nomic-embed-large-v1.5-Q4_K_M.gguf\",\n",
    "                     embedding=True, verbose=False, use_mmap=True,\n",
    "                     use_mlock=True)"
   ]
  },
  {
   "cell_type": "code",
   "execution_count": 6,
   "metadata": {},
   "outputs": [],
   "source": [
    "def get_embeddings(input):\n",
    "    return np.array(model_q4_k_m.embed(input), dtype=np.float16)\n",
    "\n",
    "\n",
    "def truncate_embeddings(emb, truncate_dim):\n",
    "    return emb[:, :truncate_dim]\n",
    "\n",
    "\n",
    "def cosine_similarity(x, y):\n",
    "    normalized_x = x/np.linalg.norm(x)\n",
    "    normalized_y = y/np.linalg.norm(y)\n",
    "    return np.dot(normalized_x, normalized_y)"
   ]
  },
  {
   "cell_type": "code",
   "execution_count": null,
   "metadata": {},
   "outputs": [],
   "source": [
    "dim_768_emb = get_embeddings(dataset_arr)"
   ]
  },
  {
   "cell_type": "code",
   "execution_count": null,
   "metadata": {},
   "outputs": [],
   "source": [
    "dim_768_emb.shape,dim_768_emb.dtype"
   ]
  },
  {
   "cell_type": "code",
   "execution_count": null,
   "metadata": {},
   "outputs": [],
   "source": [
    "np.save('./dim_768_emb_nomic.npy', dim_768_emb)"
   ]
  },
  {
   "cell_type": "code",
   "execution_count": 7,
   "metadata": {},
   "outputs": [
    {
     "data": {
      "text/plain": [
       "((3000, 768), dtype('float16'))"
      ]
     },
     "execution_count": 7,
     "metadata": {},
     "output_type": "execute_result"
    }
   ],
   "source": [
    "dim_768_emb = np.load('./dim_768_emb_nomic.npy')\n",
    "dim_768_emb.shape,dim_768_emb.dtype"
   ]
  },
  {
   "cell_type": "code",
   "execution_count": 8,
   "metadata": {},
   "outputs": [
    {
     "data": {
      "text/plain": [
       "(3000, 512)"
      ]
     },
     "execution_count": 8,
     "metadata": {},
     "output_type": "execute_result"
    }
   ],
   "source": [
    "dim_512_emb = truncate_embeddings(dim_768_emb,512)\n",
    "dim_512_emb.shape"
   ]
  },
  {
   "cell_type": "code",
   "execution_count": 9,
   "metadata": {},
   "outputs": [
    {
     "data": {
      "text/plain": [
       "(3000, 128)"
      ]
     },
     "execution_count": 9,
     "metadata": {},
     "output_type": "execute_result"
    }
   ],
   "source": [
    "dim_128_emb = truncate_embeddings(dim_768_emb,128)\n",
    "dim_128_emb.shape"
   ]
  },
  {
   "cell_type": "markdown",
   "metadata": {},
   "source": [
    "###  normalizing the vectors"
   ]
  },
  {
   "cell_type": "code",
   "execution_count": 10,
   "metadata": {},
   "outputs": [],
   "source": [
    "for i in range(len(dataset_arr)):\n",
    "    dim_768_emb[i, :] = dim_768_emb[i, :]/np.linalg.norm(dim_768_emb[i, :])\n",
    "    dim_512_emb[i, :] = dim_512_emb[i, :]/np.linalg.norm(dim_512_emb[i, :])\n",
    "    dim_128_emb[i, :] = dim_128_emb[i, :]/np.linalg.norm(dim_128_emb[i, :])"
   ]
  },
  {
   "cell_type": "markdown",
   "metadata": {},
   "source": [
    "### converting float => binary (uint8)"
   ]
  },
  {
   "cell_type": "code",
   "execution_count": 11,
   "metadata": {},
   "outputs": [],
   "source": [
    "def modified_signum(x):\n",
    "    output = np.zeros_like(x)\n",
    "    output[x <= 0] = 0\n",
    "    output[x > 0] = 1\n",
    "    return output.astype(np.uint8)"
   ]
  },
  {
   "cell_type": "markdown",
   "metadata": {},
   "source": [
    "storing packed binary 128 dimensional vectors"
   ]
  },
  {
   "cell_type": "code",
   "execution_count": 12,
   "metadata": {},
   "outputs": [],
   "source": [
    "bin_dim_128_emb =  modified_signum(\n",
    "        dim_128_emb)\n",
    "pack_bin_dim_128_emb = np.packbits(\n",
    "    bin_dim_128_emb).reshape(dim_128_emb.shape[0], -1)\n",
    "pack_bin_dim_128_emb.shape,pack_bin_dim_128_emb[0][:20]"
   ]
  },
  {
   "cell_type": "code",
   "execution_count": 13,
   "metadata": {},
   "outputs": [],
   "source": [
    "np.save('pack_bin_dim_128_emb.npy',pack_bin_dim_128_emb)\n"
   ]
  },
  {
   "cell_type": "code",
   "execution_count": 14,
   "metadata": {},
   "outputs": [],
   "source": [
    "pack_bin_dim_128_emb = np.load(\"pack_bin_dim_128_emb.npy\")"
   ]
  },
  {
   "cell_type": "code",
   "execution_count": 15,
   "metadata": {},
   "outputs": [
    {
     "data": {
      "text/plain": [
       "(3000, 16)"
      ]
     },
     "execution_count": 15,
     "metadata": {},
     "output_type": "execute_result"
    }
   ],
   "source": [
    "pack_bin_dim_128_emb.shape"
   ]
  },
  {
   "cell_type": "code",
   "execution_count": 16,
   "metadata": {},
   "outputs": [],
   "source": [
    "bin_dim_128_emb = np.unpackbits(pack_bin_dim_128_emb).reshape(pack_bin_dim_128_emb.shape[0],-1)"
   ]
  },
  {
   "cell_type": "code",
   "execution_count": 17,
   "metadata": {},
   "outputs": [
    {
     "data": {
      "text/plain": [
       "(3000, 128)"
      ]
     },
     "execution_count": 17,
     "metadata": {},
     "output_type": "execute_result"
    }
   ],
   "source": [
    "bin_dim_128_emb.shape"
   ]
  },
  {
   "cell_type": "markdown",
   "metadata": {},
   "source": [
    "storing packed binary 512 dimensional vectors"
   ]
  },
  {
   "cell_type": "code",
   "execution_count": 18,
   "metadata": {},
   "outputs": [],
   "source": [
    "bin_dim_512_emb =  modified_signum(\n",
    "        dim_512_emb)\n",
    "pack_bin_dim_512_emb = np.packbits(\n",
    "    bin_dim_512_emb).reshape(dim_512_emb.shape[0], -1)\n",
    "pack_bin_dim_512_emb.shape,pack_bin_dim_512_emb[0][:20]"
   ]
  },
  {
   "cell_type": "code",
   "execution_count": 19,
   "metadata": {},
   "outputs": [],
   "source": [
    "np.save('pack_bin_dim_512_emb.npy',pack_bin_dim_512_emb)\n"
   ]
  },
  {
   "cell_type": "code",
   "execution_count": 20,
   "metadata": {},
   "outputs": [],
   "source": [
    "pack_bin_dim_512_emb = np.load('pack_bin_dim_512_emb.npy')"
   ]
  },
  {
   "cell_type": "code",
   "execution_count": 21,
   "metadata": {},
   "outputs": [
    {
     "data": {
      "text/plain": [
       "(3000, 64)"
      ]
     },
     "execution_count": 21,
     "metadata": {},
     "output_type": "execute_result"
    }
   ],
   "source": [
    "pack_bin_dim_512_emb.shape"
   ]
  },
  {
   "cell_type": "markdown",
   "metadata": {},
   "source": [
    "### testing out binary vector wihout  faiss"
   ]
  },
  {
   "cell_type": "code",
   "execution_count": 22,
   "metadata": {},
   "outputs": [],
   "source": [
    "\n",
    "\n",
    "def hamming_distance(bin_vec1, bin_vec2):\n",
    "    bin_vec1, bin_vec2 = bin_vec1.squeeze(), bin_vec2.squeeze()\n",
    "\n",
    "\n",
    "    h_dist = 0\n",
    "\n",
    "    len_vec = bin_vec1.shape[0]\n",
    "\n",
    "    for i in range(len_vec):\n",
    "\n",
    "        if bin_vec1[i] != bin_vec2[i]:\n",
    "\n",
    "\n",
    "            h_dist += 1\n",
    "\n",
    "    return h_dist"
   ]
  },
  {
   "cell_type": "code",
   "execution_count": 23,
   "metadata": {},
   "outputs": [
    {
     "name": "stdout",
     "output_type": "stream",
     "text": [
      "query :search_query: Avengers\n",
      "result: search_document: The Avengers . Action, Adventure, Sci-Fi . Two British Agents team up to stop Sir August de Wynter from destroying the world with a weather-changing machine\n",
      "score: 19\n",
      "\n",
      "result: search_document: Avengers: The Kang Dynasty . Action, Adventure, Sci-Fi . Plot under wraps\n",
      "score: 20\n",
      "\n",
      "result: search_document: Avengers: Secret Wars . Action, Adventure, Sci-Fi . Plot under wraps\n",
      "score: 21\n",
      "\n",
      "result: search_document: The Avengers . Action, Sci-Fi . Earth's mightiest heroes must come together and learn to fight as a team if they are going to stop the mischievous Loki and his alien army from enslaving humanity\n",
      "score: 22\n",
      "\n",
      "result: search_document: The Omega Man . Action, Drama, Sci-Fi . Biological war has decimated life on Earth Los Angeles is a windswept ghost town where Robert Neville tools his convertible through sunlit streets foraging for supplies\n",
      "score: 23\n",
      "\n",
      "result: search_document: Captain America: Civil War . Action, Sci-Fi . Political involvement in the Avengers' affairs causes a rift between Captain America and Iron Man\n",
      "score: 24\n",
      "\n",
      "result: search_document: Aliens vs Predator: Requiem . Action, Adventure, Horror . Warring Alien and Predator races descend on a rural Colorado town, where unsuspecting residents must band together for any chance of survival\n",
      "score: 24\n",
      "\n",
      "result: search_document: Black Widow . Action, Adventure, Sci-Fi . Natasha Romanoff confronts the darker parts of her ledger when a dangerous conspiracy with ties to her past arises\n",
      "score: 25\n",
      "\n",
      "result: search_document: Iron Man . Action, Adventure, Sci-Fi . After being held captive in an Afghan cave, billionaire engineer Tony Stark creates a unique weaponized suit of armor to fight evil\n",
      "score: 25\n",
      "\n",
      "result: search_document: The Marvels . Action, Adventure, Fantasy . Sequel to the 2019 title 'Captain Marvel'\n",
      "score: 25\n",
      "\n"
     ]
    }
   ],
   "source": [
    "exp_query = [\n",
    "    \"search_query: Avengers\"\n",
    "\n",
    "]\n",
    "exp_dim_128_query = truncate_embeddings(\n",
    "    get_embeddings(exp_query), shortlisting_dim)\n",
    "for i in range(len(exp_query)):\n",
    "    exp_dim_128_query[i] = exp_dim_128_query[i] / \\\n",
    "        np.linalg.norm(exp_dim_128_query[i])\n",
    "\n",
    "exp_bin_dim_128_query = modified_signum(exp_dim_128_query).squeeze()\n",
    "exp_pack_bin_dim_128_query = np.packbits(\n",
    "    exp_bin_dim_128_query\n",
    ")\n",
    "\n",
    "exp_indexed_score = []\n",
    "for i, vec in enumerate(bin_dim_128_emb):\n",
    "    score = hamming_distance(exp_bin_dim_128_query, vec)\n",
    "    exp_indexed_score.append((score, i))\n",
    "\n",
    "exp_top_score = heapq.nsmallest(10, exp_indexed_score, key=lambda x: x[0])\n",
    "print(f'query :{exp_query[0]}')\n",
    "for score, index in exp_top_score:\n",
    "    print(f'result: {dataset_arr[index]}')\n",
    "    print(f'score: {score}')\n",
    "    print()\n",
    "    "
   ]
  },
  {
   "cell_type": "code",
   "execution_count": 24,
   "metadata": {},
   "outputs": [],
   "source": [
    "def convert_query_to_float(query, dim=reranking_dim):\n",
    "    \"\"\"\n",
    "    float embeddings \n",
    "    \"\"\"\n",
    "    query = [query]\n",
    "    float_emb = truncate_embeddings(\n",
    "        get_embeddings(query), dim)  # (1,reranking_dim)\n",
    "    norm_float_emb = float_emb / \\\n",
    "        np.linalg.norm(float_emb)  # (1,reranking_dim)\n",
    "    return float_emb, norm_float_emb\n",
    "\n",
    "\n",
    "def convert_float_to_binary(float_emb, dim=shortlisting_dim):\n",
    "    \"\"\"\n",
    "    packed binary embeddings\n",
    "    \"\"\"\n",
    "    if (float_emb.ndim == 1):\n",
    "        s = float_emb[:dim]\n",
    "        s = s.reshape(1,-1)\n",
    "    else:\n",
    "        s = truncate_embeddings(\n",
    "            float_emb, dim)  # (1,shortlisting_dim)\n",
    " \n",
    "    s = s/np.linalg.norm(s)  # (1,shortlisting_dim)\n",
    "    bin_emb = modified_signum(s)  # (1,shortlisting_dim)\n",
    "\n",
    "    return bin_emb\n",
    "\n",
    "\n"
   ]
  },
  {
   "cell_type": "code",
   "execution_count": 43,
   "metadata": {},
   "outputs": [],
   "source": [
    "def shortlisting(bin_emb, top_s):\n",
    "    indexed_distance: list = list()\n",
    "    for i, vec in enumerate(bin_dim_128_emb):\n",
    "\n",
    "        distance = hamming_distance(bin_emb, vec)\n",
    "        indexed_distance.append((distance, i))\n",
    "    shortlisted_distance = heapq.nsmallest(\n",
    "        top_s, indexed_distance, key=lambda x: x[0])\n",
    "    shortlisting_result = [(dataset_arr[index], distance, index)\n",
    "                           for (distance, index) in shortlisted_distance]\n",
    "\n",
    "    return shortlisting_result\n",
    "\n",
    "\n",
    "def reranking(shortlisting_result, norm_float_emb, top_r):\n",
    "\n",
    "    indexed_score: list = list()\n",
    "\n",
    "    text_arr: list = list()\n",
    "\n",
    "    for i, (text, distance, index) in enumerate(shortlisting_result):\n",
    "\n",
    "        bin_emb = np.unpackbits(\n",
    "            pack_bin_dim_512_emb[index]\n",
    "        ).reshape(1, -1)  # (1,reranking_dim)\n",
    "\n",
    "        score = round(float(\n",
    "            np.matmul(norm_float_emb_query, bin_emb.T).squeeze()\n",
    "        ), 3)\n",
    "\n",
    "        indexed_score.append((score, i))\n",
    "\n",
    "        text_arr.append(text)\n",
    "\n",
    "    top_r_result = heapq.nlargest(top_r, indexed_score, key=lambda x: x[0])\n",
    "\n",
    "    reranking_result = [(score, text_arr[index])\n",
    "                        for (score, index) in top_r_result]\n",
    "\n",
    "    return reranking_result"
   ]
  },
  {
   "cell_type": "code",
   "execution_count": 44,
   "metadata": {},
   "outputs": [],
   "source": [
    "\n",
    "float_emb_query, norm_float_emb_query = convert_query_to_float(\n",
    "    \"search_query: fastx\")\n",
    "bin_emb_query = convert_float_to_binary(float_emb_query)\n",
    "shortlisting_result = shortlisting(\n",
    "    bin_emb_query, 50\n",
    ")\n",
    "reranking_result = reranking(shortlisting_result, norm_float_emb_query, 10)"
   ]
  },
  {
   "cell_type": "code",
   "execution_count": 45,
   "metadata": {},
   "outputs": [
    {
     "data": {
      "text/plain": [
       "[(6.348,\n",
       "  'search_document: Fast X . Action, Crime, Mystery . Dom Toretto and his family are targeted by the vengeful son of drug kingpin Hernan Reyes'),\n",
       " (6.254,\n",
       "  \"search_document: F9: The Fast Saga . Action, Crime, Thriller . Dom and the crew must take on an international terrorist who turns out to be Dom and Mia's estranged brother\"),\n",
       " (5.711,\n",
       "  \"search_document: The Fast and the Furious . Action, Crime, Thriller . Los Angeles police officer Brian O'Conner must decide where his loyalty really lies when he becomes enamored with the street racing world he has been sent undercover to destroy\"),\n",
       " (5.703,\n",
       "  'search_document: The Fast and the Furious: Tokyo Drift . Action, Crime, Thriller . A teenager becomes a major competitor in the world of drift racing after moving in with his father in Tokyo to avoid a jail sentence in America'),\n",
       " (5.348,\n",
       "  \"search_document: Rush Hour 3 . Action, Comedy, Crime . After an attempted assassination on Ambassador Han, Lee and Carter head to Paris to protect a French woman with knowledge of the Triads' secret leaders\"),\n",
       " (5.242,\n",
       "  'search_document: X-Men: Dark Phoenix . Action, Adventure, Sci-Fi . Jean Grey begins to develop incredible powers that corrupt and turn her into a Dark Phoenix, causing the X-Men to decide if her life is worth more than all of humanity'),\n",
       " (5.234,\n",
       "  'search_document: Varisu . Action, Drama . Vijay Rajendran is a happy to-go lucky man Things change when his father becomes terminally ill, and he is left to manage his business empire'),\n",
       " (5.129,\n",
       "  'search_document: X2: X-Men United . Action, Sci-Fi, Thriller . When anti-mutant Colonel William Stryker kidnaps Professor X and attacks his school, the X-Men must ally with their archenemy Magneto to stop him'),\n",
       " (5.121,\n",
       "  'search_document: Bloodsport . Action, Biography, Drama . \"Bloodsport\" follows Frank Dux, an American martial artist serving in the military, who decides to leave the army to compete in a martial arts tournament in Hong Kong where fights to the death can occur'),\n",
       " (5.094,\n",
       "  'search_document: Uri: The Surgical Strike . Action, Drama, History . Indian army special forces execute a covert operation, avenging the killing of fellow army men at their base by a terrorist group')]"
      ]
     },
     "execution_count": 45,
     "metadata": {},
     "output_type": "execute_result"
    }
   ],
   "source": [
    "reranking_result"
   ]
  },
  {
   "cell_type": "code",
   "execution_count": 46,
   "metadata": {},
   "outputs": [
    {
     "data": {
      "text/plain": [
       "[(\"search_document: F9: The Fast Saga . Action, Crime, Thriller . Dom and the crew must take on an international terrorist who turns out to be Dom and Mia's estranged brother\",\n",
       "  27,\n",
       "  48),\n",
       " ('search_document: Fast X . Action, Crime, Mystery . Dom Toretto and his family are targeted by the vengeful son of drug kingpin Hernan Reyes',\n",
       "  28,\n",
       "  4),\n",
       " (\"search_document: Iron Mask . Action, Adventure, Fantasy . Early 1700: Cartographer Jonathan Green (Jason Flemyng) from Forbidden Empire (2014) is back to map the Russian Far East He's forced on to China, where he confronts the Dragon Master et al The iron masked Russian Czar escapes the Tower of London to a Russian ship\",\n",
       "  30,\n",
       "  1456),\n",
       " ('search_document: Mission: Impossible - Dead Reckoning - Part Two . Action, Adventure, Thriller . The 8th entry in the long running Mission Impossible franchise',\n",
       "  32,\n",
       "  1580),\n",
       " ('search_document: Malikappuram . Action, Drama . An intense desire of Kallu an 8 year old girl from Panchalimedu village to visit Sabarimala',\n",
       "  32,\n",
       "  2481),\n",
       " ('search_document: Air Force: The Movie - Selagi Bernyawa . Action, Adventure, War . Zafran, a grounded SUKHOI pilot, fights for the opportunity to save them Nine of the passengers managed to make their jump before the plane crashes Back in Malaysia, upon discovery of the news, the air force makes preparation for rescue',\n",
       "  32,\n",
       "  2753),\n",
       " ('search_document: The Day After Tomorrow . Action, Adventure, Sci-Fi . Jack Hall, paleoclimatologist, must make a daring trek from Washington, D C to New York City to reach his son, trapped in the cross-hairs of a sudden international storm which plunges the planet into a new Ice Age',\n",
       "  33,\n",
       "  143),\n",
       " ('search_document: X-Men: Dark Phoenix . Action, Adventure, Sci-Fi . Jean Grey begins to develop incredible powers that corrupt and turn her into a Dark Phoenix, causing the X-Men to decide if her life is worth more than all of humanity',\n",
       "  33,\n",
       "  441),\n",
       " (\"search_document: Battlefield Earth . Action, Adventure, Sci-Fi . It's the year 3000 A D , and the Earth is lost to the alien race of Psychlos Humanity is enslaved by these gold-thirsty tyrants, who are unaware that their 'man-animals' are about to ignite the rebellion of a lifetime\",\n",
       "  33,\n",
       "  1280),\n",
       " (\"search_document: Mission: Impossible - Ghost Protocol . Action, Adventure, Thriller . The IMF is shut down when it's implicated in the bombing of the Kremlin, causing Ethan Hunt and his new team to go rogue to clear their organization's name\",\n",
       "  34,\n",
       "  327),\n",
       " (\"search_document: Iron Man Three . Action, Adventure, Sci-Fi . When Tony Stark's world is torn apart by a formidable terrorist called the Mandarin, he starts an odyssey of rebuilding and retribution\",\n",
       "  34,\n",
       "  352),\n",
       " ('search_document: Mission: Impossible II . Action, Adventure, Thriller . IMF agent Ethan Hunt is sent to Sydney to find and destroy a genetically modified disease called \"Chimera\"',\n",
       "  34,\n",
       "  432),\n",
       " ('search_document: Varisu . Action, Drama . Vijay Rajendran is a happy to-go lucky man Things change when his father becomes terminally ill, and he is left to manage his business empire',\n",
       "  34,\n",
       "  450),\n",
       " ('search_document: X2: X-Men United . Action, Sci-Fi, Thriller . When anti-mutant Colonel William Stryker kidnaps Professor X and attacks his school, the X-Men must ally with their archenemy Magneto to stop him',\n",
       "  34,\n",
       "  625),\n",
       " ('search_document: The Spy Who Loved Me . Action, Adventure, Thriller . James Bond investigates the hijacking of British and Russian submarines carrying nuclear warheads, with the help of a K G B agent whose lover he killed',\n",
       "  34,\n",
       "  807),\n",
       " (\"search_document: Rush Hour 3 . Action, Comedy, Crime . After an attempted assassination on Ambassador Han, Lee and Carter head to Paris to protect a French woman with knowledge of the Triads' secret leaders\",\n",
       "  34,\n",
       "  1319),\n",
       " ('search_document: Loaded Weapon 1 . Action, Comedy, Crime . A spoof on Lethal Weapon (1987), other movies, TV commercials etc 2 unlike LA cops investigate a cocaine in girl scout cookies case',\n",
       "  34,\n",
       "  1738),\n",
       " ('search_document: MI-5 . Action, Drama, Thriller . When a terrorist escapes custody during a routine handover, Will Holloway must team with disgraced MI5 Intelligence Chief Harry Pearce to track him down before an imminent terrorist attack on London',\n",
       "  34,\n",
       "  2058),\n",
       " ('search_document: Airport 1975 . Action, Drama, Thriller . A 747 in flight collides with a small plane, and is rendered pilotless Somehow the control tower must get a pilot aboard so the jet can land',\n",
       "  34,\n",
       "  2283),\n",
       " ('search_document: Hex . Action, Adventure, Horror . Following a mysterious disappearance on a jump, a group of skydivers experience paranormal occurrences that leave them fighting for their lives',\n",
       "  34,\n",
       "  2546),\n",
       " ('search_document: Vendetta . Action, Thriller . Special ops interrogation officer Jimmy Vickers tracks down a gang who slaughtered his parents With police closing in & his old unit on his trail, he has to to evade capture long enough to complete his gruesome crusade',\n",
       "  34,\n",
       "  2696),\n",
       " ('search_document: From Russia with Love . Action, Adventure, Thriller . James Bond willingly falls into an assassination plot involving a naive Russian beauty in order to retrieve a Soviet encryption device that was stolen by S P E C T R E',\n",
       "  35,\n",
       "  196),\n",
       " ('search_document: Bad Boys II . Action, Comedy, Crime . Two loose-cannon narcotics cops investigate the flow of Ecstasy into Florida from a Cuban drug cartel',\n",
       "  35,\n",
       "  330),\n",
       " ('search_document: Spider-Man 3 . Action, Adventure, Sci-Fi . A strange black entity from another world bonds with Peter Parker and causes inner turmoil as he contends with new villains, temptations, and revenge',\n",
       "  35,\n",
       "  369),\n",
       " (\"search_document: Jurassic Park III . Action, Adventure, Sci-Fi . A decidedly odd couple with ulterior motives convince Dr Grant to go to Isla Sorna for a holiday, but their unexpected landing startles the island's new inhabitants\",\n",
       "  35,\n",
       "  789),\n",
       " (\"search_document: The Weapon . Action, Thriller . Dallas is a one-man killing machine on a mysterious rampage His attacks on biker gangs and meth labs anger the Vegas mob boss who's holding Dallas's girlfriend hostage But who is Dallas See full summary »\",\n",
       "  35,\n",
       "  934),\n",
       " (\"search_document: You Don't Mess with the Zohan . Action, Comedy . An Israeli Special Forces Soldier fakes his death so he can re-emerge in New York City as a hair stylist\",\n",
       "  35,\n",
       "  1003),\n",
       " ('search_document: Vampire Academy . Action, Comedy, Drama . Rose Hathaway is a Dhampir, half human-half vampire, a guardian of the Moroi, peaceful, mortal vampires living discreetly within our world Her calling is to protect the Moroi from bloodthirsty, immortal Vampires, the Strigoi',\n",
       "  35,\n",
       "  1076),\n",
       " ('search_document: HIT: The 2nd Case . Action, Crime, Drama . Krishna Dev aka KD, a laid back cop, works in AP HIT, has to take up a gruesome murder case As KD unravels the layers of the crime, the stakes rise unbelievably high and the threat comes unusually close',\n",
       "  35,\n",
       "  1194),\n",
       " ('search_document: Passenger 57 . Action, Crime, Thriller . An airline security expert must take action when he finds himself trapped on a passenger jet when terrorists seize control of it',\n",
       "  35,\n",
       "  1475),\n",
       " ('search_document: Cherry 2000 . Action, Adventure, Comedy . In 2017, a successful businessman travels to the ends of the earth to find that the perfect woman is always under his nose He hires a sexy renegade tracker to find an exact duplicate of his android wife',\n",
       "  35,\n",
       "  1873),\n",
       " (\"search_document: Major . Action, Biography, Drama . Based on the life of Major Sandeep Unnikrishnan, who was martyred in action during the November 2008 Mumbai attacks and was consequently awarded the Ashoka Chakra, India's highest peacetime gallantry award, on 26 January 2009\",\n",
       "  35,\n",
       "  2275),\n",
       " ('search_document: Spacehunter: Adventures in the Forbidden Zone . Action, Adventure, Sci-Fi . On a distant planet inhabited by mutants, two bounty-hunters race to rescue three Earth female captives from the clutches of an evil mutant warlord',\n",
       "  35,\n",
       "  2492),\n",
       " ('search_document: Uri: The Surgical Strike . Action, Drama, History . Indian army special forces execute a covert operation, avenging the killing of fellow army men at their base by a terrorist group',\n",
       "  35,\n",
       "  2834),\n",
       " ('search_document: Untitled I Am Legend Sequel . Action, Horror, Sci-Fi . The plot is under wraps',\n",
       "  35,\n",
       "  2862),\n",
       " (\"search_document: Black Panther . Action, Adventure, Sci-Fi . T'Challa, heir to the hidden but advanced kingdom of Wakanda, must step forward to lead his people into a new future and must confront a challenger from his country's past\",\n",
       "  36,\n",
       "  12),\n",
       " (\"search_document: The Fast and the Furious . Action, Crime, Thriller . Los Angeles police officer Brian O'Conner must decide where his loyalty really lies when he becomes enamored with the street racing world he has been sent undercover to destroy\",\n",
       "  36,\n",
       "  58),\n",
       " ('search_document: Mission: Impossible - Dead Reckoning - Part One . Action, Adventure, Thriller . Seventh entry in the long-running Mission: Impossible series',\n",
       "  36,\n",
       "  136),\n",
       " ('search_document: El Camino: A Breaking Bad Movie . Action, Crime, Drama . Fugitive Jesse Pinkman runs from his captors, the law, and his past',\n",
       "  36,\n",
       "  238),\n",
       " ('search_document: The Fast and the Furious: Tokyo Drift . Action, Crime, Thriller . A teenager becomes a major competitor in the world of drift racing after moving in with his father in Tokyo to avoid a jail sentence in America',\n",
       "  36,\n",
       "  324),\n",
       " (\"search_document: Fantastic Four . Action, Adventure, Sci-Fi . One of Marvel's most iconic families makes it to the big screen: the Fantastic Four\",\n",
       "  36,\n",
       "  602),\n",
       " ('search_document: Air Force One . Action, Drama, Thriller . Communist radicals hijack Air Force One with the U S President and his family on board The Vice President negotiates from Washington D C , while the President, a veteran, fights to rescue the hostages on board',\n",
       "  36,\n",
       "  677),\n",
       " (\"search_document: The Man with the Golden Gun . Action, Adventure, Thriller . James Bond is targeted by the world's most expensive assassin, while he attempts to recover sensitive solar cell technology that is being sold to the highest bidder\",\n",
       "  36,\n",
       "  792),\n",
       " ('search_document: Austin Powers in Goldmember . Action, Adventure, Comedy . Upon learning that his father has been kidnapped, Austin Powers must travel to 1975 and defeat the aptly named villain Goldmember, who is working with Dr Evil',\n",
       "  36,\n",
       "  819),\n",
       " (\"search_document: The Taking of Pelham 123 . Action, Crime, Thriller . Armed men hijack a New York City subway train, holding the passengers hostage in return for a ransom, and turning an ordinary day's work for dispatcher Walter Garber into a face-off with the mastermind behind the crime\",\n",
       "  36,\n",
       "  921),\n",
       " ('search_document: Bloodsport . Action, Biography, Drama . \"Bloodsport\" follows Frank Dux, an American martial artist serving in the military, who decides to leave the army to compete in a martial arts tournament in Hong Kong where fights to the death can occur',\n",
       "  36,\n",
       "  973),\n",
       " ('search_document: Hotel Mumbai . Action, Drama, History . The true story of the Taj Hotel terrorist attack in Mumbai Hotel staff risk their lives to keep everyone safe as people make unthinkable sacrifices to protect themselves and their families',\n",
       "  36,\n",
       "  1050),\n",
       " (\"search_document: Swordfish . Action, Crime, Thriller . A covert counter-terrorist unit called Black Cell led by Gabriel Shear wants the money to help finance their war against international terrorism, but it's all locked away Gabriel brings in convicted hacker Stanley Jobson to help him\",\n",
       "  36,\n",
       "  1173),\n",
       " ('search_document: United 93 . Action, Drama, History . A real-time account of the events on United Flight 93, one of the planes hijacked on September 11th, 2001 that crashed near Shanksville, Pennsylvania when passengers foiled the terrorist plot',\n",
       "  36,\n",
       "  1344),\n",
       " ('search_document: Shanghai Noon . Action, Adventure, Comedy . A Chinese man travels to the Wild West to rescue a kidnapped Princess After teaming up with a train robber, the unlikely duo takes on a Chinese traitor and his corrupt boss',\n",
       "  36,\n",
       "  1579)]"
      ]
     },
     "execution_count": 46,
     "metadata": {},
     "output_type": "execute_result"
    }
   ],
   "source": [
    "shortlisting_result"
   ]
  }
 ],
 "metadata": {
  "kernelspec": {
   "display_name": "venv",
   "language": "python",
   "name": "python3"
  },
  "language_info": {
   "codemirror_mode": {
    "name": "ipython",
    "version": 3
   },
   "file_extension": ".py",
   "mimetype": "text/x-python",
   "name": "python",
   "nbconvert_exporter": "python",
   "pygments_lexer": "ipython3",
   "version": "3.10.8"
  }
 },
 "nbformat": 4,
 "nbformat_minor": 2
}
